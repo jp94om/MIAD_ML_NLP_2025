{
 "cells": [
  {
   "cell_type": "markdown",
   "metadata": {
    "id": "d8KHTGC5t4Iq"
   },
   "source": [
    "![image info](https://raw.githubusercontent.com/albahnsen/MIAD_ML_and_NLP/main/images/banner_1.png)"
   ]
  },
  {
   "cell_type": "markdown",
   "metadata": {
    "id": "VuTNkDa1t4Is"
   },
   "source": [
    "# Taller: Construcción e implementación de modelos Bagging, Random Forest y XGBoost\n",
    "\n",
    "En este taller podrán poner en práctica sus conocimientos sobre la construcción e implementación de modelos de Bagging, Random Forest y XGBoost. El taller está constituido por 8 puntos, en los cuales deberan seguir las intrucciones de cada numeral para su desarrollo."
   ]
  },
  {
   "cell_type": "markdown",
   "metadata": {
    "id": "rujxDMuwt4It"
   },
   "source": [
    "## Datos predicción precio de automóviles\n",
    "\n",
    "En este taller se usará el conjunto de datos de Car Listings de Kaggle donde cada observación representa el precio de un automóvil teniendo en cuenta distintas variables como año, marca, modelo, entre otras. El objetivo es predecir el precio del automóvil. Para más detalles puede visitar el siguiente enlace: [datos](https://www.kaggle.com/jpayne/852k-used-car-listings)."
   ]
  },
  {
   "cell_type": "code",
   "execution_count": 13,
   "metadata": {
    "executionInfo": {
     "elapsed": 3,
     "status": "ok",
     "timestamp": 1743884537603,
     "user": {
      "displayName": "Victor Velandia",
      "userId": "18043773183701378261"
     },
     "user_tz": 300
    },
    "id": "FPW_jFZHt4It"
   },
   "outputs": [],
   "source": [
    "import warnings\n",
    "warnings.filterwarnings('ignore')"
   ]
  },
  {
   "cell_type": "code",
   "execution_count": 14,
   "metadata": {
    "colab": {
     "base_uri": "https://localhost:8080/",
     "height": 206
    },
    "executionInfo": {
     "elapsed": 5591,
     "status": "ok",
     "timestamp": 1743884551348,
     "user": {
      "displayName": "Victor Velandia",
      "userId": "18043773183701378261"
     },
     "user_tz": 300
    },
    "id": "uuax7_Qht4Iu",
    "outputId": "17f35fdd-bd68-4e5f-9279-592cf84167d1"
   },
   "outputs": [
    {
     "data": {
      "text/html": [
       "<div>\n",
       "<style scoped>\n",
       "    .dataframe tbody tr th:only-of-type {\n",
       "        vertical-align: middle;\n",
       "    }\n",
       "\n",
       "    .dataframe tbody tr th {\n",
       "        vertical-align: top;\n",
       "    }\n",
       "\n",
       "    .dataframe thead th {\n",
       "        text-align: right;\n",
       "    }\n",
       "</style>\n",
       "<table border=\"1\" class=\"dataframe\">\n",
       "  <thead>\n",
       "    <tr style=\"text-align: right;\">\n",
       "      <th></th>\n",
       "      <th>Price</th>\n",
       "      <th>Year</th>\n",
       "      <th>Mileage</th>\n",
       "      <th>M_Camry</th>\n",
       "      <th>M_Camry4dr</th>\n",
       "      <th>M_CamryBase</th>\n",
       "      <th>M_CamryL</th>\n",
       "      <th>M_CamryLE</th>\n",
       "      <th>M_CamrySE</th>\n",
       "      <th>M_CamryXLE</th>\n",
       "    </tr>\n",
       "  </thead>\n",
       "  <tbody>\n",
       "    <tr>\n",
       "      <th>7</th>\n",
       "      <td>21995</td>\n",
       "      <td>2014</td>\n",
       "      <td>6480</td>\n",
       "      <td>False</td>\n",
       "      <td>False</td>\n",
       "      <td>False</td>\n",
       "      <td>True</td>\n",
       "      <td>False</td>\n",
       "      <td>False</td>\n",
       "      <td>False</td>\n",
       "    </tr>\n",
       "    <tr>\n",
       "      <th>11</th>\n",
       "      <td>13995</td>\n",
       "      <td>2014</td>\n",
       "      <td>39972</td>\n",
       "      <td>False</td>\n",
       "      <td>False</td>\n",
       "      <td>False</td>\n",
       "      <td>False</td>\n",
       "      <td>True</td>\n",
       "      <td>False</td>\n",
       "      <td>False</td>\n",
       "    </tr>\n",
       "    <tr>\n",
       "      <th>167</th>\n",
       "      <td>17941</td>\n",
       "      <td>2016</td>\n",
       "      <td>18989</td>\n",
       "      <td>False</td>\n",
       "      <td>False</td>\n",
       "      <td>False</td>\n",
       "      <td>False</td>\n",
       "      <td>False</td>\n",
       "      <td>True</td>\n",
       "      <td>False</td>\n",
       "    </tr>\n",
       "    <tr>\n",
       "      <th>225</th>\n",
       "      <td>12493</td>\n",
       "      <td>2014</td>\n",
       "      <td>51330</td>\n",
       "      <td>False</td>\n",
       "      <td>False</td>\n",
       "      <td>False</td>\n",
       "      <td>True</td>\n",
       "      <td>False</td>\n",
       "      <td>False</td>\n",
       "      <td>False</td>\n",
       "    </tr>\n",
       "    <tr>\n",
       "      <th>270</th>\n",
       "      <td>7994</td>\n",
       "      <td>2007</td>\n",
       "      <td>116065</td>\n",
       "      <td>False</td>\n",
       "      <td>True</td>\n",
       "      <td>False</td>\n",
       "      <td>False</td>\n",
       "      <td>False</td>\n",
       "      <td>False</td>\n",
       "      <td>False</td>\n",
       "    </tr>\n",
       "  </tbody>\n",
       "</table>\n",
       "</div>"
      ],
      "text/plain": [
       "     Price  Year  Mileage  M_Camry  M_Camry4dr  M_CamryBase  M_CamryL  \\\n",
       "7    21995  2014     6480    False       False        False      True   \n",
       "11   13995  2014    39972    False       False        False     False   \n",
       "167  17941  2016    18989    False       False        False     False   \n",
       "225  12493  2014    51330    False       False        False      True   \n",
       "270   7994  2007   116065    False        True        False     False   \n",
       "\n",
       "     M_CamryLE  M_CamrySE  M_CamryXLE  \n",
       "7        False      False       False  \n",
       "11        True      False       False  \n",
       "167      False       True       False  \n",
       "225      False      False       False  \n",
       "270      False      False       False  "
      ]
     },
     "execution_count": 14,
     "metadata": {},
     "output_type": "execute_result"
    }
   ],
   "source": [
    "# Importación de librerías\n",
    "%matplotlib inline\n",
    "import pandas as pd\n",
    "\n",
    "# Lectura de la información de archivo .csv\n",
    "data = pd.read_csv('https://raw.githubusercontent.com/jp94om/MIAD_ML_NLP_2025/refs/heads/main/datasets/dataTrain_carListings.zip')\n",
    "\n",
    "# Preprocesamiento de datos para el taller\n",
    "data = data.loc[data['Model'].str.contains('Camry')].drop(['Make', 'State'], axis=1)\n",
    "data = data.join(pd.get_dummies(data['Model'], prefix='M'))\n",
    "data = data.drop(['Model'], axis=1)\n",
    "\n",
    "# Visualización dataset\n",
    "data.head()"
   ]
  },
  {
   "cell_type": "code",
   "execution_count": 15,
   "metadata": {
    "colab": {
     "base_uri": "https://localhost:8080/"
    },
    "executionInfo": {
     "elapsed": 69,
     "status": "ok",
     "timestamp": 1743885639121,
     "user": {
      "displayName": "Victor Velandia",
      "userId": "18043773183701378261"
     },
     "user_tz": 300
    },
    "id": "qnduJpeyrwaW",
    "outputId": "031b2264-54ce-46fa-bfb0-7c97e08d0a31"
   },
   "outputs": [
    {
     "name": "stdout",
     "output_type": "stream",
     "text": [
      "<class 'pandas.core.frame.DataFrame'>\n",
      "Index: 10495 entries, 7 to 399976\n",
      "Data columns (total 10 columns):\n",
      " #   Column       Non-Null Count  Dtype\n",
      "---  ------       --------------  -----\n",
      " 0   Price        10495 non-null  int64\n",
      " 1   Year         10495 non-null  int64\n",
      " 2   Mileage      10495 non-null  int64\n",
      " 3   M_Camry      10495 non-null  bool \n",
      " 4   M_Camry4dr   10495 non-null  bool \n",
      " 5   M_CamryBase  10495 non-null  bool \n",
      " 6   M_CamryL     10495 non-null  bool \n",
      " 7   M_CamryLE    10495 non-null  bool \n",
      " 8   M_CamrySE    10495 non-null  bool \n",
      " 9   M_CamryXLE   10495 non-null  bool \n",
      "dtypes: bool(7), int64(3)\n",
      "memory usage: 657.8 KB\n"
     ]
    }
   ],
   "source": [
    "data.info()"
   ]
  },
  {
   "cell_type": "code",
   "execution_count": 16,
   "metadata": {
    "executionInfo": {
     "elapsed": 38,
     "status": "ok",
     "timestamp": 1743885923228,
     "user": {
      "displayName": "Victor Velandia",
      "userId": "18043773183701378261"
     },
     "user_tz": 300
    },
    "id": "PDMq4CrVt4Iu"
   },
   "outputs": [],
   "source": [
    "# Separación de variables predictoras (X) y variable de interés (y)\n",
    "y = data['Price']\n",
    "X = data.drop(['Price'], axis=1)"
   ]
  },
  {
   "cell_type": "code",
   "execution_count": 17,
   "metadata": {
    "executionInfo": {
     "elapsed": 1108,
     "status": "ok",
     "timestamp": 1743885925734,
     "user": {
      "displayName": "Victor Velandia",
      "userId": "18043773183701378261"
     },
     "user_tz": 300
    },
    "id": "UnJ3ucu1t4Iu"
   },
   "outputs": [],
   "source": [
    "# Separación de datos en set de entrenamiento y test\n",
    "from sklearn.model_selection import train_test_split\n",
    "X_train, X_test, y_train, y_test = train_test_split(X, y, test_size=0.33, random_state=42)"
   ]
  },
  {
   "cell_type": "code",
   "execution_count": 18,
   "metadata": {
    "colab": {
     "base_uri": "https://localhost:8080/"
    },
    "executionInfo": {
     "elapsed": 28,
     "status": "ok",
     "timestamp": 1743885943139,
     "user": {
      "displayName": "Victor Velandia",
      "userId": "18043773183701378261"
     },
     "user_tz": 300
    },
    "id": "DYw0AjvAs5om",
    "outputId": "4f2abf03-35ff-4c88-9915-7ecb13aa97bd"
   },
   "outputs": [
    {
     "data": {
      "text/plain": [
       "((7031, 9), (3464, 9), (7031,), (3464,))"
      ]
     },
     "execution_count": 18,
     "metadata": {},
     "output_type": "execute_result"
    }
   ],
   "source": [
    "# Mostrar las dimensiones de cada conjunto\n",
    "X_train.shape, X_test.shape, y_train.shape, y_test.shape"
   ]
  },
  {
   "cell_type": "markdown",
   "metadata": {
    "id": "c5z_x-5Ct4Iv"
   },
   "source": [
    "### Punto 1 - Árbol de decisión manual\n",
    "\n",
    "En la celda 1 creen un árbol de decisión **manualmente**  que considere los set de entrenamiento y test definidos anteriormente y presenten el RMSE y MAE del modelo en el set de test."
   ]
  },
  {
   "cell_type": "code",
   "execution_count": 19,
   "metadata": {
    "colab": {
     "base_uri": "https://localhost:8080/"
    },
    "executionInfo": {
     "elapsed": 918,
     "status": "ok",
     "timestamp": 1743888006212,
     "user": {
      "displayName": "Victor Velandia",
      "userId": "18043773183701378261"
     },
     "user_tz": 300
    },
    "id": "BTYHnyJ_t4Iv",
    "outputId": "4db40bf9-ce3f-4b06-c1b6-8d54934422d4"
   },
   "outputs": [
    {
     "data": {
      "text/plain": [
       "(1921.0003286740268, 1445.8091325887447)"
      ]
     },
     "execution_count": 19,
     "metadata": {},
     "output_type": "execute_result"
    }
   ],
   "source": [
    "# Celda 1\n",
    "from sklearn.metrics import mean_squared_error, mean_absolute_error\n",
    "import numpy as np\n",
    "\n",
    "# MSE para regresión\n",
    "def mse(y):\n",
    "    if y.shape[0] == 0:\n",
    "        return 0\n",
    "    else:\n",
    "        return np.mean((y - y.mean())**2)\n",
    "\n",
    "# Ganancia por MSE en una división\n",
    "def mse_impurity(X_col, y, split):\n",
    "    filter_l = X_col < split\n",
    "    y_l = y.loc[filter_l]\n",
    "    y_r = y.loc[~filter_l]\n",
    "\n",
    "    n_l = y_l.shape[0]\n",
    "    n_r = y_r.shape[0]\n",
    "\n",
    "    mse_y = mse(y)\n",
    "    mse_l = mse(y_l)\n",
    "    mse_r = mse(y_r)\n",
    "\n",
    "    mse_impurity_ = mse_y - (n_l / (n_l + n_r) * mse_l + n_r / (n_l + n_r) * mse_r)\n",
    "\n",
    "    return mse_impurity_\n",
    "\n",
    "# Buscar mejor división\n",
    "def best_split_reg(X, y, num_pct=10):\n",
    "    features = range(X.shape[1])\n",
    "    best_split = [0, 0, -np.inf]  # j, split, gain\n",
    "\n",
    "    for j in features:\n",
    "        col = X.iloc[:, j].astype(float)  # ← Conversión segura\n",
    "        splits = np.percentile(col, np.linspace(0, 100, num_pct + 2)[1:-1])\n",
    "        splits = np.unique(splits)\n",
    "\n",
    "        for split in splits:\n",
    "            gain = mse_impurity(col, y, split)\n",
    "            if gain > best_split[2]:\n",
    "                best_split = [j, split, gain]\n",
    "\n",
    "    return best_split\n",
    "\n",
    "# Construcción recursiva del árbol\n",
    "def tree_grow_reg(X, y, level=0, min_gain=1, max_depth=None, num_pct=10):\n",
    "    if X.shape[0] <= 1:\n",
    "        return dict(y_pred=y.iloc[0], level=level, split=-1, n_samples=1, gain=0)\n",
    "\n",
    "    j, split, gain = best_split_reg(X, y, num_pct)\n",
    "    tree = dict(y_pred=y.mean(), level=level, split=-1, n_samples=X.shape[0], gain=gain)\n",
    "\n",
    "    if gain < min_gain:\n",
    "        return tree\n",
    "    if max_depth is not None and level >= max_depth:\n",
    "        return tree\n",
    "\n",
    "    filter_l = X.iloc[:, j] < split\n",
    "    X_l, y_l = X.loc[filter_l], y.loc[filter_l]\n",
    "    X_r, y_r = X.loc[~filter_l], y.loc[~filter_l]\n",
    "\n",
    "    tree['split'] = [j, split]\n",
    "    tree['sl'] = tree_grow_reg(X_l, y_l, level + 1, min_gain, max_depth, num_pct)\n",
    "    tree['sr'] = tree_grow_reg(X_r, y_r, level + 1, min_gain, max_depth, num_pct)\n",
    "\n",
    "    return tree\n",
    "\n",
    "# Predicción con árbol de regresión manual\n",
    "def tree_predict_reg(X, tree):\n",
    "    predicted = np.zeros(X.shape[0])\n",
    "\n",
    "    if tree['split'] == -1:\n",
    "        predicted[:] = tree['y_pred']\n",
    "    else:\n",
    "        j, split = tree['split']\n",
    "        filter_l = X.iloc[:, j] < split\n",
    "        X_l = X.loc[filter_l]\n",
    "        X_r = X.loc[~filter_l]\n",
    "\n",
    "        if X_l.shape[0] > 0:\n",
    "            predicted[filter_l] = tree_predict_reg(X_l, tree['sl'])\n",
    "        if X_r.shape[0] > 0:\n",
    "            predicted[~filter_l] = tree_predict_reg(X_r, tree['sr'])\n",
    "\n",
    "    return predicted\n",
    "\n",
    "# Entrenar el árbol manual\n",
    "tree_manual = tree_grow_reg(X_train, y_train, max_depth=3, min_gain=1, num_pct=10)\n",
    "\n",
    "# Predecir en test\n",
    "y_pred_manual = tree_predict_reg(X_test, tree_manual)\n",
    "\n",
    "# Evaluar\n",
    "rmse_manual = np.sqrt(mean_squared_error(y_test, y_pred_manual))\n",
    "mae_manual = mean_absolute_error(y_test, y_pred_manual)\n",
    "\n",
    "rmse_manual, mae_manual"
   ]
  },
  {
   "cell_type": "markdown",
   "metadata": {
    "id": "-IzHYEpV1EfP"
   },
   "source": [
    "**ANÁLISIS DEL ARBOL DE DECISIÓN MANUAL CONSTRUIDO**\n",
    "Se implementó manualmente un árbol de decisión para regresión siguiendo la lógica de particiones binarias basada en la ganancia de reducción del error cuadrático medio (MSE). El árbol se entrenó sobre el conjunto X_train y y_train, usando una profundidad máxima de 3 niveles.\n",
    "\n",
    "El modelo fue evaluado sobre el conjunto de prueba (X_test) usando las métricas de regresión:\n",
    "* RMSE: 1921.00\n",
    "* MAE: 1445.81\n",
    "\n",
    "Estas métricas indican que el árbol es capaz de capturar patrones importantes en los datos de precios de vehículos, aunque con un margen de error moderado."
   ]
  },
  {
   "cell_type": "markdown",
   "metadata": {
    "id": "y-59fE8tt4Iv"
   },
   "source": [
    "### Punto 2 - Bagging manual\n",
    "\n",
    "En la celda 2 creen un modelo bagging **manualmente** con 10 árboles de regresión y comenten sobre el desempeño del modelo."
   ]
  },
  {
   "cell_type": "code",
   "execution_count": 20,
   "metadata": {
    "colab": {
     "base_uri": "https://localhost:8080/"
    },
    "executionInfo": {
     "elapsed": 10871,
     "status": "ok",
     "timestamp": 1743888604215,
     "user": {
      "displayName": "Victor Velandia",
      "userId": "18043773183701378261"
     },
     "user_tz": 300
    },
    "id": "L18zan-3t4Iv",
    "outputId": "98b451e1-8ca5-43a4-b866-40bec31735b1"
   },
   "outputs": [
    {
     "data": {
      "text/plain": [
       "(1830.7570959792706, 1370.6366240564196)"
      ]
     },
     "execution_count": 20,
     "metadata": {},
     "output_type": "execute_result"
    }
   ],
   "source": [
    "# Celda 2\n",
    "# Crear 10 árboles de regresión entrenados con bootstrap\n",
    "n_estimators = 10\n",
    "trees_bagging = []\n",
    "\n",
    "np.random.seed(42)  # reproducibilidad\n",
    "\n",
    "for i in range(n_estimators):\n",
    "    # Muestra bootstrap con reemplazo\n",
    "    bootstrap_indices = np.random.choice(X_train.index, size=len(X_train), replace=True)\n",
    "    X_bootstrap = X_train.loc[bootstrap_indices]\n",
    "    y_bootstrap = y_train.loc[bootstrap_indices]\n",
    "\n",
    "    # Entrenar árbol manual\n",
    "    tree = tree_grow_reg(X_bootstrap, y_bootstrap, max_depth=3, min_gain=1, num_pct=10)\n",
    "    trees_bagging.append(tree)\n",
    "\n",
    "# Predecir con cada árbol y promediar las predicciones\n",
    "predictions = np.zeros((len(X_test), n_estimators))\n",
    "\n",
    "for i, tree in enumerate(trees_bagging):\n",
    "    predictions[:, i] = tree_predict_reg(X_test, tree)\n",
    "\n",
    "# Promedio de predicciones\n",
    "y_pred_bagging = predictions.mean(axis=1)\n",
    "\n",
    "# Evaluar desempeño\n",
    "rmse_bagging = np.sqrt(mean_squared_error(y_test, y_pred_bagging))\n",
    "mae_bagging = mean_absolute_error(y_test, y_pred_bagging)\n",
    "\n",
    "rmse_bagging, mae_bagging"
   ]
  },
  {
   "cell_type": "markdown",
   "metadata": {
    "id": "jKfXC1_M3EXu"
   },
   "source": [
    "**ANÁLISIS DE BAGGING MANUAL**\n",
    "\n",
    "Se implementó un modelo de bagging construyendo 10 árboles de decisión manuales, cada uno entrenado sobre una muestra bootstrap del conjunto de entrenamiento. Las predicciones finales se obtuvieron promediando las predicciones de los 10 árboles.\n",
    "\n",
    "Esto permitió reducir la varianza del modelo individual, mejorando ligeramente el desempeño respecto al árbol único, obteniendo las siguientes métricas de desempeño:\n",
    "* RMSE: 1830.76\n",
    "* MAE: 1370.64"
   ]
  },
  {
   "cell_type": "markdown",
   "metadata": {
    "id": "WCodJ1f2t4Iv"
   },
   "source": [
    "### Punto 3 - Bagging con librería\n",
    "\n",
    "En la celda 3, con la librería sklearn, entrenen un modelo bagging con 10 árboles de regresión y el parámetro `max_features` igual a `log(n_features)` y comenten sobre el desempeño del modelo."
   ]
  },
  {
   "cell_type": "code",
   "execution_count": 21,
   "metadata": {
    "colab": {
     "base_uri": "https://localhost:8080/"
    },
    "executionInfo": {
     "elapsed": 60,
     "status": "ok",
     "timestamp": 1743889450857,
     "user": {
      "displayName": "Victor Velandia",
      "userId": "18043773183701378261"
     },
     "user_tz": 300
    },
    "id": "vvd2HOCZt4Iv",
    "outputId": "78eba57d-655e-4fbb-ee15-78d2680bdd66"
   },
   "outputs": [
    {
     "data": {
      "text/plain": [
       "(2274.1360002677716, 1744.4522710146198, 3)"
      ]
     },
     "execution_count": 21,
     "metadata": {},
     "output_type": "execute_result"
    }
   ],
   "source": [
    "# Celda 3\n",
    "from sklearn.ensemble import BaggingRegressor\n",
    "from sklearn.tree import DecisionTreeRegressor\n",
    "from math import log, ceil\n",
    "\n",
    "# Calcular max_features = log(n_features), redondeado hacia arriba para asegurar al menos una característica\n",
    "n_features = X_train.shape[1]\n",
    "max_features_log = ceil(log(n_features))\n",
    "\n",
    "# Crear modelo de Bagging con sklearn\n",
    "bagging_model = BaggingRegressor(\n",
    "    DecisionTreeRegressor(),\n",
    "    n_estimators=10,\n",
    "    max_features=max_features_log,\n",
    "    random_state=42\n",
    ")\n",
    "\n",
    "\n",
    "# Entrenar el modelo\n",
    "bagging_model.fit(X_train, y_train)\n",
    "\n",
    "# Predicciones sobre test\n",
    "y_pred_sklearn_bagging = bagging_model.predict(X_test)\n",
    "\n",
    "# Evaluar desempeño\n",
    "rmse_sklearn_bagging = np.sqrt(mean_squared_error(y_test, y_pred_sklearn_bagging))\n",
    "mae_sklearn_bagging = mean_absolute_error(y_test, y_pred_sklearn_bagging)\n",
    "\n",
    "rmse_sklearn_bagging, mae_sklearn_bagging, max_features_log"
   ]
  },
  {
   "cell_type": "markdown",
   "metadata": {
    "id": "7b5txY3z6VtL"
   },
   "source": [
    "**ANÁLISIS DE LA IMPLEMENTACIÓN DE BAGGING CON SKLEARN**\n",
    "\n",
    "Se entrenó un modelo de Bagging utilizando la librería sklearn.ensemble.BaggingRegressor, con 10 árboles base (DecisionTreeRegressor) y un valor de max_features igual a log(n_features). El modelo fue evaluado en el set de test, mostrando un desempeño ligeramente inferior al modelo de bagging manual(RMSE: 2274.14 y MAE: 1744.45). Esto puede deberse a la menor cantidad de variables utilizadas por árbol, que puede limitar su capacidad predictiva individual.\n",
    "\n"
   ]
  },
  {
   "cell_type": "markdown",
   "metadata": {
    "id": "ueGtkOa-t4Iw"
   },
   "source": [
    "### Punto 4 - Random forest con librería\n",
    "\n",
    "En la celda 4, usando la librería sklearn entrenen un modelo de Randon Forest para regresión  y comenten sobre el desempeño del modelo."
   ]
  },
  {
   "cell_type": "code",
   "execution_count": 22,
   "metadata": {
    "colab": {
     "base_uri": "https://localhost:8080/"
    },
    "executionInfo": {
     "elapsed": 3367,
     "status": "ok",
     "timestamp": 1743889739625,
     "user": {
      "displayName": "Victor Velandia",
      "userId": "18043773183701378261"
     },
     "user_tz": 300
    },
    "id": "8oAiEkMut4Iw",
    "outputId": "8fdbce29-2fc1-4c44-9fa6-2d38fcabceeb"
   },
   "outputs": [
    {
     "data": {
      "text/plain": [
       "(1765.4118259983413, 1314.4207078056425)"
      ]
     },
     "execution_count": 22,
     "metadata": {},
     "output_type": "execute_result"
    }
   ],
   "source": [
    "# Celda 4\n",
    "from sklearn.ensemble import RandomForestRegressor\n",
    "\n",
    "# Entrenar modelo de Random Forest para regresión\n",
    "rf_model = RandomForestRegressor(n_estimators=100, random_state=42)\n",
    "rf_model.fit(X_train, y_train)\n",
    "\n",
    "# Realizar predicciones sobre el set de prueba\n",
    "y_pred_rf = rf_model.predict(X_test)\n",
    "\n",
    "# Evaluar desempeño\n",
    "rmse_rf = np.sqrt(mean_squared_error(y_test, y_pred_rf))\n",
    "mae_rf = mean_absolute_error(y_test, y_pred_rf)\n",
    "\n",
    "rmse_rf, mae_rf"
   ]
  },
  {
   "cell_type": "markdown",
   "metadata": {
    "id": "PIAp2SlS7gWi"
   },
   "source": [
    "**ANÁLISIS DEL MODELO RANDOM FOREST IMPLEMENTADO CON SKLEARN**\n",
    "\n",
    "Se entrenó un modelo de Random Forest para regresión utilizando la clase RandomForestRegressor de sklearn, con 100 árboles y parámetros por defecto. El modelo fue evaluado en el conjunto de prueba utilizando las métricas RMSE y MAE, mostrando el mejor desempeño hasta el momento entre los modelos probados:\n",
    "* RMSE: 1765.41\n",
    "* MAE: 1314.42\n",
    "\n",
    "Este mejor desempeño del modelo es gracias a su capacidad para combinar múltiples árboles diversos sin necesidad de ajustes manuales."
   ]
  },
  {
   "cell_type": "markdown",
   "metadata": {
    "id": "6QOz9AyNt4Iw"
   },
   "source": [
    "### Punto 5 - Calibración de parámetros Random forest\n",
    "\n",
    "En la celda 5, calibren los parámetros max_depth, max_features y n_estimators del modelo de Randon Forest para regresión, comenten sobre el desempeño del modelo y describan cómo cada parámetro afecta el desempeño del modelo."
   ]
  },
  {
   "cell_type": "code",
   "execution_count": 23,
   "metadata": {
    "colab": {
     "base_uri": "https://localhost:8080/"
    },
    "executionInfo": {
     "elapsed": 93734,
     "status": "ok",
     "timestamp": 1743890465929,
     "user": {
      "displayName": "Victor Velandia",
      "userId": "18043773183701378261"
     },
     "user_tz": 300
    },
    "id": "92UAWPB7t4Iw",
    "outputId": "1c38871b-6c43-4309-92d1-6c91d382b676"
   },
   "outputs": [
    {
     "data": {
      "text/plain": [
       "({'bootstrap': True,\n",
       "  'ccp_alpha': 0.0,\n",
       "  'criterion': 'squared_error',\n",
       "  'max_depth': 10,\n",
       "  'max_features': 2,\n",
       "  'max_leaf_nodes': None,\n",
       "  'max_samples': None,\n",
       "  'min_impurity_decrease': 0.0,\n",
       "  'min_samples_leaf': 1,\n",
       "  'min_samples_split': 2,\n",
       "  'min_weight_fraction_leaf': 0.0,\n",
       "  'n_estimators': 200,\n",
       "  'n_jobs': None,\n",
       "  'oob_score': False,\n",
       "  'random_state': 42,\n",
       "  'verbose': 0,\n",
       "  'warm_start': False},\n",
       " 1563.6313565219089,\n",
       " 1145.475913450151)"
      ]
     },
     "execution_count": 23,
     "metadata": {},
     "output_type": "execute_result"
    }
   ],
   "source": [
    "# Celda 5\n",
    "from sklearn.model_selection import GridSearchCV\n",
    "\n",
    "# Definir la malla de hiperparámetros a explorar\n",
    "param_grid = {\n",
    "    'max_depth': [3, 5, 10, None],\n",
    "    'max_features': [2, 4, 6, None],\n",
    "    'n_estimators': [50, 100, 200]\n",
    "}\n",
    "\n",
    "# Crear el modelo base\n",
    "rf_base = RandomForestRegressor(random_state=42)\n",
    "\n",
    "# Usar GridSearchCV para buscar la mejor combinación\n",
    "grid_search = GridSearchCV(estimator=rf_base, param_grid=param_grid,\n",
    "                           scoring='neg_root_mean_squared_error',\n",
    "                           cv=3, n_jobs=-1)\n",
    "\n",
    "# Entrenar el modelo con validación cruzada\n",
    "grid_search.fit(X_train, y_train)\n",
    "\n",
    "# Obtener el mejor modelo\n",
    "best_rf = grid_search.best_estimator_\n",
    "\n",
    "# Predecir sobre el set de test\n",
    "y_pred_rf_tuned = best_rf.predict(X_test)\n",
    "\n",
    "# Evaluar desempeño\n",
    "rmse_rf_tuned = np.sqrt(mean_squared_error(y_test, y_pred_rf_tuned))\n",
    "mae_rf_tuned = mean_absolute_error(y_test, y_pred_rf_tuned)\n",
    "\n",
    "# Mostrar resultados\n",
    "best_rf.get_params(), rmse_rf_tuned, mae_rf_tuned"
   ]
  },
  {
   "cell_type": "markdown",
   "metadata": {
    "id": "KJmvtoDJAOMe"
   },
   "source": [
    "**ANÁLISIS DEL MODELO RANDOM FOREST CON CALIBRACIÓN DE PARÁMETROS**\n",
    "\n",
    "Se realizó una búsqueda en malla (GridSearchCV) para calibrar tres hiperparámetros del modelo Random Forest(max_depth, max_features y n_estimators)\n",
    "\n",
    "El modelo ajustado con la mejor combinación logró el mejor desempeño hasta ahora, mostrando el beneficio de calibrar los hiperparámetros para mejorar la precisión de predicción.\n",
    "* RMSE: 1563.63\n",
    "* MAE: 1145.47"
   ]
  },
  {
   "cell_type": "markdown",
   "metadata": {
    "id": "drkhWtsxt4Iw"
   },
   "source": [
    "### Punto 6 - XGBoost con librería\n",
    "\n",
    "En la celda 6 implementen un modelo XGBoost de regresión con la librería sklearn y comenten sobre el desempeño del modelo."
   ]
  },
  {
   "cell_type": "code",
   "execution_count": 26,
   "metadata": {
    "colab": {
     "base_uri": "https://localhost:8080/"
    },
    "executionInfo": {
     "elapsed": 956,
     "status": "ok",
     "timestamp": 1743891865550,
     "user": {
      "displayName": "Victor Velandia",
      "userId": "18043773183701378261"
     },
     "user_tz": 300
    },
    "id": "VjeT5rlRt4Iw",
    "outputId": "4a984029-3178-41e8-f1b7-09be1e7e03f9"
   },
   "outputs": [
    {
     "data": {
      "text/plain": [
       "(1605.2355199928948, 1185.2272991506386)"
      ]
     },
     "execution_count": 26,
     "metadata": {},
     "output_type": "execute_result"
    }
   ],
   "source": [
    "# Celda 6\n",
    "from xgboost import XGBRegressor\n",
    "\n",
    "# Entrenar modelo XGBoost para regresión con parámetros por defecto\n",
    "xgb_model = XGBRegressor(random_state=42)\n",
    "xgb_model.fit(X_train, y_train)\n",
    "\n",
    "# Predicciones en el set de prueba\n",
    "y_pred_xgb = xgb_model.predict(X_test)\n",
    "\n",
    "# Evaluar desempeño\n",
    "rmse_xgb = np.sqrt(mean_squared_error(y_test, y_pred_xgb))\n",
    "mae_xgb = mean_absolute_error(y_test, y_pred_xgb)\n",
    "\n",
    "rmse_xgb, mae_xgb"
   ]
  },
  {
   "cell_type": "markdown",
   "metadata": {
    "id": "nIKhz0QUDiq8"
   },
   "source": [
    "**ANÁLISIS DEL MODELO XGBoost IMPLEMENTADO**\n",
    "\n",
    "Se entrenó un modelo de regresión utilizando XGBoost, el cual mostró un desempeño superior al árbol manual y al bagging simple, y acercándose al Random Forest ajustado:\n",
    "* RMSE: 1605.23\n",
    "* MAE: 1185.22\n",
    "\n",
    "Esto demuestra la eficiencia de XGBoost en aprender relaciones no lineales complejas, incluso con hiperparámetros por defecto."
   ]
  },
  {
   "cell_type": "markdown",
   "metadata": {
    "id": "NyFYOq1Ht4Iw"
   },
   "source": [
    "### Punto 7 - Calibración de parámetros XGBoost\n",
    "\n",
    "En la celda 7 calibren los parámetros learning rate, gamma y colsample_bytree del modelo XGBoost para regresión, comenten sobre el desempeño del modelo y describan cómo cada parámetro afecta el desempeño del modelo."
   ]
  },
  {
   "cell_type": "code",
   "execution_count": 27,
   "metadata": {
    "colab": {
     "base_uri": "https://localhost:8080/"
    },
    "executionInfo": {
     "elapsed": 11112,
     "status": "ok",
     "timestamp": 1743892622662,
     "user": {
      "displayName": "Victor Velandia",
      "userId": "18043773183701378261"
     },
     "user_tz": 300
    },
    "id": "5VwA6Ruft4Iw",
    "outputId": "3e3f5155-5609-4c26-eb17-3599c1c232b1"
   },
   "outputs": [
    {
     "data": {
      "text/plain": [
       "({'objective': 'reg:squarederror',\n",
       "  'base_score': None,\n",
       "  'booster': None,\n",
       "  'callbacks': None,\n",
       "  'colsample_bylevel': None,\n",
       "  'colsample_bynode': None,\n",
       "  'colsample_bytree': 0.5,\n",
       "  'device': None,\n",
       "  'early_stopping_rounds': None,\n",
       "  'enable_categorical': False,\n",
       "  'eval_metric': None,\n",
       "  'feature_types': None,\n",
       "  'feature_weights': None,\n",
       "  'gamma': 0,\n",
       "  'grow_policy': None,\n",
       "  'importance_type': None,\n",
       "  'interaction_constraints': None,\n",
       "  'learning_rate': 0.1,\n",
       "  'max_bin': None,\n",
       "  'max_cat_threshold': None,\n",
       "  'max_cat_to_onehot': None,\n",
       "  'max_delta_step': None,\n",
       "  'max_depth': None,\n",
       "  'max_leaves': None,\n",
       "  'min_child_weight': None,\n",
       "  'missing': nan,\n",
       "  'monotone_constraints': None,\n",
       "  'multi_strategy': None,\n",
       "  'n_estimators': 100,\n",
       "  'n_jobs': None,\n",
       "  'num_parallel_tree': None,\n",
       "  'random_state': 42,\n",
       "  'reg_alpha': None,\n",
       "  'reg_lambda': None,\n",
       "  'sampling_method': None,\n",
       "  'scale_pos_weight': None,\n",
       "  'subsample': None,\n",
       "  'tree_method': None,\n",
       "  'validate_parameters': None,\n",
       "  'verbosity': None},\n",
       " 1543.1913471745406,\n",
       " 1136.0069302389309)"
      ]
     },
     "execution_count": 27,
     "metadata": {},
     "output_type": "execute_result"
    }
   ],
   "source": [
    "# Celda 7\n",
    "\n",
    "# Grid de hiperparámetros para XGBoost\n",
    "xgb_param_grid = {\n",
    "    'learning_rate': [0.01, 0.1, 0.3],\n",
    "    'gamma': [0, 1, 5],\n",
    "    'colsample_bytree': [0.5, 0.8, 1]\n",
    "}\n",
    "\n",
    "# GridSearchCV\n",
    "xgb_base = XGBRegressor(n_estimators=100, random_state=42)\n",
    "xgb_grid = GridSearchCV(estimator=xgb_base,\n",
    "                        param_grid=xgb_param_grid,\n",
    "                        scoring='neg_root_mean_squared_error',\n",
    "                        cv=3,\n",
    "                        n_jobs=1)\n",
    "\n",
    "# Entrenamiento\n",
    "xgb_grid.fit(X_train, y_train)\n",
    "\n",
    "# Mejor modelo y evaluación\n",
    "best_xgb = xgb_grid.best_estimator_\n",
    "y_pred_xgb_tuned = best_xgb.predict(X_test)\n",
    "rmse_xgb_tuned = np.sqrt(mean_squared_error(y_test, y_pred_xgb_tuned))\n",
    "mae_xgb_tuned = mean_absolute_error(y_test, y_pred_xgb_tuned)\n",
    "\n",
    "best_xgb.get_params(), rmse_xgb_tuned, mae_xgb_tuned"
   ]
  },
  {
   "cell_type": "markdown",
   "metadata": {
    "id": "vbH6ogLbHURg"
   },
   "source": [
    "**ANÁLISIS DEL XGBoost CALIBRADO**\n",
    "\n",
    "El modelo XGBoost calibrado logró el mejor desempeño hasta el momento, superando tanto al Random Forest como al modelo de XGBoost sin calibración:\n",
    "* RMSE: 1547.96\n",
    "* MAE: 1138.01\n",
    "\n",
    "Estos resultados nos demuestran cómo la calibración de hiperparámetros permite al modelo:\n",
    "- Ser más preciso al corregir errores (con learning_rate adecuado).\n",
    "- Evitar divisiones innecesarias (gracias al control de gamma).\n",
    "- Ser más robusto al introducir aleatoriedad en las variables usadas (colsample_bytree)."
   ]
  },
  {
   "cell_type": "markdown",
   "metadata": {
    "id": "FuvGzPsct4Iw"
   },
   "source": [
    "### Punto 8 - Comparación y análisis de resultados\n",
    "En la celda 8 comparen los resultados obtenidos de los diferentes modelos (random forest y XGBoost) y comenten las ventajas del mejor modelo y las desventajas del modelo con el menor desempeño."
   ]
  },
  {
   "cell_type": "code",
   "execution_count": 28,
   "metadata": {
    "colab": {
     "base_uri": "https://localhost:8080/",
     "height": 746
    },
    "executionInfo": {
     "elapsed": 629,
     "status": "ok",
     "timestamp": 1743893551079,
     "user": {
      "displayName": "Victor Velandia",
      "userId": "18043773183701378261"
     },
     "user_tz": 300
    },
    "id": "To_4mj9Wt4Iw",
    "outputId": "b7d18d63-f62e-4470-eba6-5bfc4468d97e"
   },
   "outputs": [
    {
     "name": "stdout",
     "output_type": "stream",
     "text": [
      "                    Modelo         RMSE          MAE\n",
      "0             Árbol manual  1921.000329  1445.809133\n",
      "1           Bagging manual  1830.757096  1370.636624\n",
      "2          Bagging sklearn  2274.136000  1744.452271\n",
      "3  Random Forest (default)  1765.411826  1314.420708\n",
      "4    Random Forest (tuned)  1563.631357  1145.475913\n",
      "5        XGBoost (default)  1605.235520  1185.227299\n",
      "6          XGBoost (tuned)  1543.191347  1136.006930\n"
     ]
    },
    {
     "data": {
      "image/png": "[encoded data removed]",
      "text/plain": [
       "<Figure size 1200x600 with 1 Axes>"
      ]
     },
     "metadata": {},
     "output_type": "display_data"
    }
   ],
   "source": [
    "# Celda 8\n",
    "import matplotlib.pyplot as plt\n",
    "# Crear tabla con las métricas previamente calculadas y almacenadas en variables reales\n",
    "results_df = pd.DataFrame({\n",
    "    'Modelo': [\n",
    "        'Árbol manual',\n",
    "        'Bagging manual',\n",
    "        'Bagging sklearn',\n",
    "        'Random Forest (default)',\n",
    "        'Random Forest (tuned)',\n",
    "        'XGBoost (default)',\n",
    "        'XGBoost (tuned)'\n",
    "    ],\n",
    "    'RMSE': [\n",
    "        rmse_manual,\n",
    "        rmse_bagging,\n",
    "        rmse_sklearn_bagging,\n",
    "        rmse_rf,\n",
    "        rmse_rf_tuned,\n",
    "        rmse_xgb,\n",
    "        rmse_xgb_tuned\n",
    "    ],\n",
    "    'MAE': [\n",
    "        mae_manual,\n",
    "        mae_bagging,\n",
    "        mae_sklearn_bagging,\n",
    "        mae_rf,\n",
    "        mae_rf_tuned,\n",
    "        mae_xgb,\n",
    "        mae_xgb_tuned\n",
    "    ]\n",
    "})\n",
    "\n",
    "# Mostrar tabla al usuario\n",
    "print(results_df)\n",
    "\n",
    "# Gráfico comparativo\n",
    "plt.figure(figsize=(12, 6))\n",
    "x = np.arange(len(results_df['Modelo']))\n",
    "width = 0.35\n",
    "\n",
    "bars_rmse = plt.bar(x - width/2, results_df['RMSE'], width, label='RMSE')\n",
    "bars_mae = plt.bar(x + width/2, results_df['MAE'], width, label='MAE')\n",
    "\n",
    "# Etiquetas numéricas sobre cada barra\n",
    "for bar in bars_rmse:\n",
    "    yval = bar.get_height()\n",
    "    plt.text(bar.get_x() + bar.get_width()/2, yval + 20, f'{yval:.0f}', ha='center', va='bottom', fontsize=9)\n",
    "\n",
    "for bar in bars_mae:\n",
    "    yval = bar.get_height()\n",
    "    plt.text(bar.get_x() + bar.get_width()/2, yval + 20, f'{yval:.0f}', ha='center', va='bottom', fontsize=9)\n",
    "\n",
    "plt.xticks(x, results_df['Modelo'], rotation=45, ha='right')\n",
    "plt.ylabel('Error')\n",
    "plt.title('Comparación de desempeño de modelos (RMSE y MAE)')\n",
    "plt.legend()\n",
    "plt.tight_layout()\n",
    "plt.show()"
   ]
  },
  {
   "cell_type": "markdown",
   "metadata": {
    "id": "VfIdB34eKd1V"
   },
   "source": [
    "**ANÁLISIS COMPARATIVO**\n",
    "\n",
    "Al comparar el desempeño de los modelos implementados evaluados con las métricas **RMSE** (Root Mean Squared Error) y **MAE** (Mean Absolute Error) sobre el conjunto de prueba, se obtiene que el mejor y peor modelo obtenidos son:\n",
    "\n",
    "### Mejor modelo: **XGBoost con hiperparámetros ajustados**\n",
    "\n",
    "Este modelo obtuvo el menor RMSE y MAE, mostrando un excelente equilibrio entre sesgo y varianza. Su desempeño se debe a:\n",
    "- Un **learning rate** moderado (0.1) que permitió aprendizaje progresivo.\n",
    "- Un `colsample_bytree` de 0.5, que introdujo diversidad entre árboles.\n",
    "- Un ajuste adecuado de `gamma`, permitiendo divisiones útiles sin sobreajustar.\n",
    "\n",
    "### Modelo con menor desempeño: **Bagging con sklearn (sin ajuste)**\n",
    "\n",
    "El modelo de bagging implementado con `max_features = log(n_features)` mostró el mayor error. Esto puede explicarse por:\n",
    "- El uso limitado de variables por árbol (lo que restringe su capacidad predictiva).\n",
    "- Un bajo número de árboles (10), que no es suficiente para estabilizar el conjunto.\n"
   ]
  },
  {
   "cell_type": "markdown",
   "metadata": {
    "id": "5oFrNWTDJJu_"
   },
   "source": [
    "**CONCLUSIÓN**\n",
    "\n",
    "La calibración de hiperparámetros y la elección del algoritmo influyen significativamente en el desempeño del modelo.\n",
    "XGBoost se destaca como el algoritmo más preciso para este problema, siempre que se le dedique tiempo a su ajuste. Por otro lado, técnicas simples como Bagging sin ajuste fino pueden no ofrecer mejoras si los parámetros no se calibran adecuadamente."
   ]
  }
 ],
 "metadata": {
  "colab": {
   "provenance": []
  },
  "kernelspec": {
   "display_name": "Python 3 (ipykernel)",
   "language": "python",
   "name": "python3"
  },
  "language_info": {
   "codemirror_mode": {
    "name": "ipython",
    "version": 3
   },
   "file_extension": ".py",
   "mimetype": "text/x-python",
   "name": "python",
   "nbconvert_exporter": "python",
   "pygments_lexer": "ipython3",
   "version": "3.11.7"
  }
 },
 "nbformat": 4,
 "nbformat_minor": 4
}
